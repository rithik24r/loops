{
  "nbformat": 4,
  "nbformat_minor": 0,
  "metadata": {
    "colab": {
      "name": "Untitled4.ipynb",
      "provenance": []
    },
    "kernelspec": {
      "name": "python3",
      "display_name": "Python 3"
    }
  },
  "cells": [
    {
      "cell_type": "code",
      "metadata": {
        "id": "9ZU6_mSsFk7T",
        "colab_type": "code",
        "colab": {
          "base_uri": "https://localhost:8080/",
          "height": 54
        },
        "outputId": "3d4845c7-1ab7-435d-d4f5-fd76db7e8112"
      },
      "source": [
        "#print all the numbers from 0 to 6 except 3 and 6\n",
        "for x in range(6):\n",
        "                  if(x==3 or x==6):\n",
        "                          continue\n",
        "                  print(x,end=' ')\n",
        "print(\"\\n\")"
      ],
      "execution_count": 1,
      "outputs": [
        {
          "output_type": "stream",
          "text": [
            "0 1 2 4 5 \n",
            "\n"
          ],
          "name": "stdout"
        }
      ]
    },
    {
      "cell_type": "code",
      "metadata": {
        "id": "os1sl99NHkUn",
        "colab_type": "code",
        "colab": {
          "base_uri": "https://localhost:8080/",
          "height": 35
        },
        "outputId": "ac4381fe-aefa-4e51-cb02-d6cfed8948f7"
      },
      "source": [
        "#length of a string\n",
        "str1=\"hello world\"\n",
        "length=len(str1)\n",
        "print(length)"
      ],
      "execution_count": 7,
      "outputs": [
        {
          "output_type": "stream",
          "text": [
            "11\n"
          ],
          "name": "stdout"
        }
      ]
    },
    {
      "cell_type": "code",
      "metadata": {
        "id": "NbJxgEBUH82S",
        "colab_type": "code",
        "colab": {
          "base_uri": "https://localhost:8080/",
          "height": 35
        },
        "outputId": "ee3f50c6-7fa6-4cf0-ca5c-986ea81bf336"
      },
      "source": [
        "#using count variable count the characters\n",
        "str1=\"hello world\"\n",
        "counter=0\n",
        "for c in str1:\n",
        "      counter+=1\n",
        "print(counter)"
      ],
      "execution_count": 4,
      "outputs": [
        {
          "output_type": "stream",
          "text": [
            "11\n"
          ],
          "name": "stdout"
        }
      ]
    },
    {
      "cell_type": "code",
      "metadata": {
        "id": "2kHT0f8RJVJi",
        "colab_type": "code",
        "colab": {
          "base_uri": "https://localhost:8080/",
          "height": 72
        },
        "outputId": "1bdff7b7-8f5e-42ac-ccf9-ff9630d30ee7"
      },
      "source": [
        "#uppercase and lowe case\n",
        "user=input(\"enter the string\")\n",
        "print(\"string in uppercase is\",user.upper())\n",
        "print(\"string in lowercase is\",user.lower())"
      ],
      "execution_count": 5,
      "outputs": [
        {
          "output_type": "stream",
          "text": [
            "enter the stringcricket\n",
            "string in uppercase is CRICKET\n",
            "string in lowercase is cricket\n"
          ],
          "name": "stdout"
        }
      ]
    },
    {
      "cell_type": "code",
      "metadata": {
        "id": "PAUkeHNkKKoc",
        "colab_type": "code",
        "colab": {
          "base_uri": "https://localhost:8080/",
          "height": 35
        },
        "outputId": "d2ccd16d-3fca-4978-b2e3-b63d948ca0ff"
      },
      "source": [
        "#print a string from two given string\n",
        "def char(a,b):\n",
        "               new_a= b[:2] + a[2:]\n",
        "               new_b= a[:2] + b[2:]\n",
        "               return new_a + ' ' + new_b\n",
        "print(char('abc', 'xyz'))"
      ],
      "execution_count": 10,
      "outputs": [
        {
          "output_type": "stream",
          "text": [
            "xyc abz\n"
          ],
          "name": "stdout"
        }
      ]
    },
    {
      "cell_type": "code",
      "metadata": {
        "id": "wLgWGiC6MLXN",
        "colab_type": "code",
        "colab": {
          "base_uri": "https://localhost:8080/",
          "height": 219
        },
        "outputId": "96481358-ec87-4c68-c4d7-f84d851e4821"
      },
      "source": [
        "#stars\n",
        "num=int(input(\"enter the rows\"))\n",
        "for i in range(1,num+1):\n",
        "                         for j in range(1,i+1):\n",
        "                                                print(\"*\",end=\" \")\n",
        "                         print()                       "
      ],
      "execution_count": 12,
      "outputs": [
        {
          "output_type": "stream",
          "text": [
            "enter the rows10\n",
            "* \n",
            "* * \n",
            "* * * \n",
            "* * * * \n",
            "* * * * * \n",
            "* * * * * * \n",
            "* * * * * * * \n",
            "* * * * * * * * \n",
            "* * * * * * * * * \n",
            "* * * * * * * * * * \n"
          ],
          "name": "stdout"
        }
      ]
    }
  ]
}